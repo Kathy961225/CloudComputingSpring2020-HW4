{
 "cells": [
  {
   "cell_type": "markdown",
   "metadata": {},
   "source": [
    "# Spam Email Classification Model\n",
    "First, we try the naive version in the link attached to the assignment4. Then we do some improvement on the previous version. Although the dataset we use here is from UCI machine learning Repository which is not a very large dataset, we can still assume a more generative scenario that if we have hundres or thousands gigabytes data, then we will not be able to use the traditional way to train the model and we need to apply big data technology. We will use the PySpark library for the follwoing training part."
   ]
  },
  {
   "cell_type": "code",
   "execution_count": 1,
   "metadata": {},
   "outputs": [],
   "source": [
    "import boto3\n",
    "\n",
    "import sagemaker\n",
    "import sagemaker_pyspark\n",
    "from sagemaker import get_execution_role\n",
    "\n",
    "from pyspark import SparkContext, SparkConf\n",
    "from pyspark.sql import SparkSession\n",
    "import pyspark.sql.functions as f\n",
    "from pyspark.sql.functions import udf\n",
    "from pyspark.sql.types import *\n",
    "\n",
    "from pyspark.ml import Pipeline\n",
    "from pyspark.ml.classification import LogisticRegression\n",
    "from pyspark.ml.evaluation import MulticlassClassificationEvaluator,\\\n",
    "                                  BinaryClassificationEvaluator\n",
    "from pyspark.ml.feature import Tokenizer, StopWordsRemover, \\\n",
    "                               HashingTF, IDF\n",
    "from pyspark.ml.linalg import VectorUDT\n",
    "\n",
    "from sagemaker_pyspark import RandomNamePolicyFactory, IAMRole,\\\n",
    "                              EndpointCreationPolicy, SageMakerModel,\\\n",
    "                              SageMakerResourceCleanup\n",
    "from sagemaker_pyspark.algorithms import XGBoostSageMakerEstimator,\\\n",
    "                                         PCASageMakerEstimator\n",
    "from sagemaker_pyspark.transformation.serializers \\\n",
    "     import ProtobufRequestRowSerializer\n",
    "from sagemaker_pyspark.transformation.serializers.serializers \\\n",
    "     import LibSVMRequestRowSerializer\n",
    "\n",
    "from sklearn.metrics import confusion_matrix, roc_curve, auc\n",
    "\n",
    "import re\n",
    "import os\n",
    "from functools import reduce\n",
    "import pandas as pd\n",
    "import numpy as np\n",
    "import matplotlib.pyplot as plt\n",
    "import itertools\n",
    "\n",
    "\n",
    "# Set random seed\n",
    "seed = 5590"
   ]
  },
  {
   "cell_type": "markdown",
   "metadata": {},
   "source": [
    "## Setup "
   ]
  },
  {
   "cell_type": "code",
   "execution_count": 2,
   "metadata": {},
   "outputs": [
    {
     "name": "stdout",
     "output_type": "stream",
     "text": [
      "Success - the MySageMakerInstance is in the us-east-1 region. You will use the 811284229777.dkr.ecr.us-east-1.amazonaws.com/xgboost:latest container for your SageMaker endpoint.\n"
     ]
    }
   ],
   "source": [
    "# Define IAM role\n",
    "role = get_execution_role()\n",
    "prefix = 'sagemaker/DEMO-xgboost-dm'\n",
    "containers = {'us-west-2': '433757028032.dkr.ecr.us-west-2.amazonaws.com/xgboost:latest',\n",
    "              'us-east-1': '811284229777.dkr.ecr.us-east-1.amazonaws.com/xgboost:latest',\n",
    "              'us-east-2': '825641698319.dkr.ecr.us-east-2.amazonaws.com/xgboost:latest',\n",
    "              'eu-west-1': '685385470294.dkr.ecr.eu-west-1.amazonaws.com/xgboost:latest'} # each region has its XGBoost container\n",
    "my_region = boto3.session.Session().region_name # set the region of the instance\n",
    "print(\"Success - the MySageMakerInstance is in the \" + my_region + \" region. You will use the \" + containers[my_region] + \" container for your SageMaker endpoint.\")"
   ]
  },
  {
   "cell_type": "code",
   "execution_count": 4,
   "metadata": {},
   "outputs": [
    {
     "name": "stdout",
     "output_type": "stream",
     "text": [
      "S3 bucket created successfully\n"
     ]
    }
   ],
   "source": [
    "# Create an S3 bucket to store training data\n",
    "bucket_name = '2020-hw4-data' # <--- CHANGE THIS VARIABLE TO A UNIQUE NAME FOR YOUR BUCKET\n",
    "s3 = boto3.resource('s3')\n",
    "try:\n",
    "    if  my_region == 'us-east-1':\n",
    "      s3.create_bucket(Bucket=bucket_name)\n",
    "    else: \n",
    "      s3.create_bucket(Bucket=bucket_name, CreateBucketConfiguration={ 'LocationConstraint': my_region })\n",
    "    print('S3 bucket created successfully')\n",
    "except Exception as e:\n",
    "    print('S3 error: ',e)"
   ]
  },
  {
   "cell_type": "code",
   "execution_count": 6,
   "metadata": {},
   "outputs": [
    {
     "data": {
      "text/html": [
       "\n",
       "            <div>\n",
       "                <p><b>SparkSession - in-memory</b></p>\n",
       "                \n",
       "        <div>\n",
       "            <p><b>SparkContext</b></p>\n",
       "\n",
       "            <p><a href=\"http://ip-172-16-140-77.ec2.internal:4040\">Spark UI</a></p>\n",
       "\n",
       "            <dl>\n",
       "              <dt>Version</dt>\n",
       "                <dd><code>v2.3.4</code></dd>\n",
       "              <dt>Master</dt>\n",
       "                <dd><code>local</code></dd>\n",
       "              <dt>AppName</dt>\n",
       "                <dd><code>Spam Filter</code></dd>\n",
       "            </dl>\n",
       "        </div>\n",
       "        \n",
       "            </div>\n",
       "        "
      ],
      "text/plain": [
       "<pyspark.sql.session.SparkSession at 0x7fd498b94a20>"
      ]
     },
     "execution_count": 6,
     "metadata": {},
     "output_type": "execute_result"
    }
   ],
   "source": [
    "# Set up Spark Configure\n",
    "jars = sagemaker_pyspark.classpath_jars()\n",
    "\n",
    "classpath = \":\".join(sagemaker_pyspark.classpath_jars())\n",
    "\n",
    "spark = SparkSession.builder.config(\"spark.driver.extraClassPath\", classpath)\\\n",
    "    .master(\"local\")\\\n",
    "    .appName(\"Spam Filter\")\\\n",
    "    .getOrCreate()\n",
    "    \n",
    "spark"
   ]
  },
  {
   "cell_type": "markdown",
   "metadata": {},
   "source": [
    "## Download Data and Put into S3"
   ]
  },
  {
   "cell_type": "code",
   "execution_count": 38,
   "metadata": {},
   "outputs": [
    {
     "name": "stdout",
     "output_type": "stream",
     "text": [
      "  % Total    % Received % Xferd  Average Speed   Time    Time     Time  Current\n",
      "                                 Dload  Upload   Total   Spent    Left  Speed\n",
      "100  198k  100  198k    0     0   269k      0 --:--:-- --:--:-- --:--:--  268k\n",
      "Archive:  dataset/smsspamcollection.zip\n",
      "  inflating: dataset/SMSSpamCollection  \n",
      "  inflating: dataset/readme          \n",
      "ham\tGo until jurong point, crazy.. Available only in bugis n great world la e buffet... Cine there got amore wat...\n",
      "ham\tOk lar... Joking wif u oni...\n",
      "spam\tFree entry in 2 a wkly comp to win FA Cup final tkts 21st May 2005. Text FA to 87121 to receive entry question(std txt rate)T&C's apply 08452810075over18's\n",
      "ham\tU dun say so early hor... U c already then say...\n",
      "ham\tNah I don't think he goes to usf, he lives around here though\n",
      "spam\tFreeMsg Hey there darling it's been 3 week's now and no word back! I'd like some fun you up for it still? Tb ok! XxX std chgs to send, £1.50 to rcv\n",
      "ham\tEven my brother is not like to speak with me. They treat me like aids patent.\n",
      "ham\tAs per your request 'Melle Melle (Oru Minnaminunginte Nurungu Vettam)' has been set as your callertune for all Callers. Press *9 to copy your friends Callertune\n",
      "spam\tWINNER!! As a valued network customer you have been selected to receivea £900 prize reward! To claim call 09061701461. Claim code KL341. Valid 12 hours only.\n",
      "spam\tHad your mobile 11 months or more? U R entitled to Update to the latest colour mobiles with camera for Free! Call The Mobile Update Co FREE on 08002986030\n"
     ]
    }
   ],
   "source": [
    "!mkdir -p dataset\n",
    "!curl https://archive.ics.uci.edu/ml/machine-learning-databases/00228/smsspamcollection.zip -o dataset/smsspamcollection.zip\n",
    "!unzip -o dataset/smsspamcollection.zip -d dataset\n",
    "!head -10 dataset/SMSSpamCollection"
   ]
  },
  {
   "cell_type": "code",
   "execution_count": 39,
   "metadata": {},
   "outputs": [],
   "source": [
    "!mv dataset/SMSSpamCollection SMSSpamCollection"
   ]
  },
  {
   "cell_type": "code",
   "execution_count": 40,
   "metadata": {},
   "outputs": [],
   "source": [
    "# Upload into S3 bucket\n",
    "boto3.Session().resource('s3').Bucket(bucket_name).Object(os.path.join(prefix, 'SMSSpamCollection')).upload_file('SMSSpamCollection')"
   ]
  },
  {
   "cell_type": "markdown",
   "metadata": {},
   "source": [
    "## Load Data "
   ]
  },
  {
   "cell_type": "code",
   "execution_count": 43,
   "metadata": {},
   "outputs": [
    {
     "name": "stdout",
     "output_type": "stream",
     "text": [
      "+-----+--------------------+\n",
      "|class|                 sms|\n",
      "+-----+--------------------+\n",
      "|  ham|Ok lar... Joking ...|\n",
      "| spam|Free entry in 2 a...|\n",
      "|  ham|U dun say so earl...|\n",
      "|  ham|Nah I don't think...|\n",
      "| spam|FreeMsg Hey there...|\n",
      "|  ham|Even my brother i...|\n",
      "|  ham|As per your reque...|\n",
      "| spam|WINNER!! As a val...|\n",
      "| spam|Had your mobile 1...|\n",
      "|  ham|I'm gonna be home...|\n",
      "| spam|SIX chances to wi...|\n",
      "| spam|URGENT! You have ...|\n",
      "|  ham|I've been searchi...|\n",
      "|  ham|I HAVE A DATE ON ...|\n",
      "| spam|XXXMobileMovieClu...|\n",
      "|  ham|Oh k...i'm watchi...|\n",
      "|  ham|Eh u remember how...|\n",
      "|  ham|Fine if thats th...|\n",
      "| spam|England v Macedon...|\n",
      "|  ham|Is that seriously...|\n",
      "+-----+--------------------+\n",
      "only showing top 20 rows\n",
      "\n",
      "The schema for dataset:\n",
      "root\n",
      " |-- class: string (nullable = true)\n",
      " |-- sms: string (nullable = true)\n",
      "\n",
      "The length of dataset:\n",
      "5573\n"
     ]
    }
   ],
   "source": [
    "# Define a Schema for df\n",
    "schema = StructType([\n",
    "    StructField(\"class\", StringType()),\n",
    "    StructField(\"sms\", StringType())\n",
    "])\n",
    "\n",
    "file_name = 'SMSSpamCollection'\n",
    "# Import CSV\n",
    "df = spark.read\\\n",
    "          .schema(schema)\\\n",
    "          .option(\"header\", \"true\")\\\n",
    "          .csv('s3a://{}/{}'.format(bucket_name, file_name), sep = '\\t')\n",
    "\n",
    "df.show()\n",
    "print(\"The schema for dataset:\")\n",
    "df.printSchema()\n",
    "print(\"The length of dataset:\")\n",
    "print(df.count())\n"
   ]
  },
  {
   "cell_type": "code",
   "execution_count": 45,
   "metadata": {},
   "outputs": [
    {
     "name": "stdout",
     "output_type": "stream",
     "text": [
      "+-----+---+\n",
      "|class|sms|\n",
      "+-----+---+\n",
      "+-----+---+\n",
      "\n"
     ]
    }
   ],
   "source": [
    "# Check null\n",
    "df.where(reduce(lambda x, y: x | y, (f.col(x).isNull() for x in df.columns))).show()"
   ]
  },
  {
   "cell_type": "code",
   "execution_count": 48,
   "metadata": {},
   "outputs": [
    {
     "name": "stdout",
     "output_type": "stream",
     "text": [
      "+-----+\n",
      "|class|\n",
      "+-----+\n",
      "|  ham|\n",
      "| spam|\n",
      "+-----+\n",
      "\n"
     ]
    }
   ],
   "source": [
    "df.select('class').distinct().show()"
   ]
  },
  {
   "cell_type": "markdown",
   "metadata": {},
   "source": [
    "## Preprocess of dataset\n",
    "In this part, we will try to do some transformation to the dataset so that we can train our model better<br> \n",
    "It will including three mahor steps: Text Normalization, Tokenization, TF-IDF Transformation"
   ]
  },
  {
   "cell_type": "markdown",
   "metadata": {},
   "source": [
    "### Text Normalization\n",
    "In order to normalize the text data, we will lowercase all texts and dealing with some special notation(number, emoticon, currency sign, links, HTML character entities, punctuation and special characters) <br>\n",
    "To deal with the symbol transformation, we apply regex here."
   ]
  },
  {
   "cell_type": "code",
   "execution_count": 51,
   "metadata": {},
   "outputs": [
    {
     "name": "stdout",
     "output_type": "stream",
     "text": [
      "+-----+--------------------+--------------------+\n",
      "|class|                 sms|            sms_norm|\n",
      "+-----+--------------------+--------------------+\n",
      "|  ham|Ok lar... Joking ...|ok lar... joking ...|\n",
      "| spam|Free entry in 2 a...|free entry in 2 a...|\n",
      "|  ham|U dun say so earl...|u dun say so earl...|\n",
      "|  ham|Nah I don't think...|nah i don't think...|\n",
      "| spam|FreeMsg Hey there...|freemsg hey there...|\n",
      "|  ham|Even my brother i...|even my brother i...|\n",
      "|  ham|As per your reque...|as per your reque...|\n",
      "| spam|WINNER!! As a val...|winner!! as a val...|\n",
      "| spam|Had your mobile 1...|had your mobile 1...|\n",
      "|  ham|I'm gonna be home...|i'm gonna be home...|\n",
      "| spam|SIX chances to wi...|six chances to wi...|\n",
      "| spam|URGENT! You have ...|urgent! you have ...|\n",
      "|  ham|I've been searchi...|i've been searchi...|\n",
      "|  ham|I HAVE A DATE ON ...|i have a date on ...|\n",
      "| spam|XXXMobileMovieClu...|xxxmobilemovieclu...|\n",
      "|  ham|Oh k...i'm watchi...|oh k...i'm watchi...|\n",
      "|  ham|Eh u remember how...|eh u remember how...|\n",
      "|  ham|Fine if thats th...|fine if thats th...|\n",
      "| spam|England v Macedon...|england v macedon...|\n",
      "|  ham|Is that seriously...|is that seriously...|\n",
      "+-----+--------------------+--------------------+\n",
      "only showing top 20 rows\n",
      "\n"
     ]
    }
   ],
   "source": [
    "# Lowercase all texts\n",
    "df_norm = df.select(\"class\",\"sms\", f.lower(f.col(\"sms\")).alias(\"sms_norm\"))\n",
    "df_norm.show()"
   ]
  },
  {
   "cell_type": "code",
   "execution_count": 52,
   "metadata": {},
   "outputs": [],
   "source": [
    "# Define the regex\n",
    "\n",
    "html_list = [\"&lt;\", \"&gt;\", \"&amp;\", \"&cent;\", \"&pound;\", \"&yen;\", \"&euro;\", \"&copy;\", \"&reg;\"]\n",
    "\n",
    "regex_url = \"\\\\w+(\\\\.|-)*\\\\w+@.*\\\\.(com|de|uk)\"\n",
    "regex_emoticon = \":\\)|:-\\)|:\\(|:-\\(|;\\);-\\)|:-O|8-|:P|:D|:\\||:S|:\\$|:@|8o\\||\\+o\\(|\\(H\\)|\\(C\\)|\\(\\?\\)\"\n",
    "regex_number = \"\\\\d+\"\n",
    "regex_punctuation = \"[\\\\.\\\\,\\\\:\\\\-\\\\!\\\\?\\\\n\\\\t,\\\\%\\\\#\\\\*\\\\|\\\\=\\\\(\\\\)\\\\\\\"\\\\>\\\\<\\\\/]\"\n",
    "regex_currency = \"[\\\\$\\\\€\\\\£]\"\n",
    "regex_url = \"(http://|https://)?www\\\\.\\\\w+?\\\\.(de|com|co.uk)\"\n",
    "regex_html = \"|\".join(html_list)\n",
    "\n",
    "dict_norm = {\n",
    "    regex_emoticon : \" normalized_emoticon \",\n",
    "    regex_url : \" normalized_emailadress \",\n",
    "    regex_number : \" normalized_number \",\n",
    "    regex_punctuation : \" \",\n",
    "    regex_currency : \" normalized_currency_symbol \",\n",
    "    regex_url: \" normalized_url \",\n",
    "    regex_html : \" \"\n",
    "}\n"
   ]
  },
  {
   "cell_type": "code",
   "execution_count": 53,
   "metadata": {},
   "outputs": [],
   "source": [
    "# Normalize the text and create a new column\n",
    "for key, value in dict_norm.items():\n",
    "    df_norm = df_norm.withColumn(\"sms_norm\", f.regexp_replace(f.col(\"sms_norm\"),key, value))"
   ]
  },
  {
   "cell_type": "code",
   "execution_count": 54,
   "metadata": {},
   "outputs": [
    {
     "name": "stdout",
     "output_type": "stream",
     "text": [
      "+-----+--------------------+--------------------+\n",
      "|class|                 sms|            sms_norm|\n",
      "+-----+--------------------+--------------------+\n",
      "|  ham|Ok lar... Joking ...|ok lar    joking ...|\n",
      "| spam|Free entry in 2 a...|free entry in  no...|\n",
      "|  ham|U dun say so earl...|u dun say so earl...|\n",
      "|  ham|Nah I don't think...|nah i don't think...|\n",
      "| spam|FreeMsg Hey there...|freemsg hey there...|\n",
      "|  ham|Even my brother i...|even my brother i...|\n",
      "|  ham|As per your reque...|as per your reque...|\n",
      "| spam|WINNER!! As a val...|winner   as a val...|\n",
      "| spam|Had your mobile 1...|had your mobile  ...|\n",
      "|  ham|I'm gonna be home...|i'm gonna be home...|\n",
      "| spam|SIX chances to wi...|six chances to wi...|\n",
      "| spam|URGENT! You have ...|urgent  you have ...|\n",
      "|  ham|I've been searchi...|i've been searchi...|\n",
      "|  ham|I HAVE A DATE ON ...|i have a date on ...|\n",
      "| spam|XXXMobileMovieClu...|xxxmobilemovieclu...|\n",
      "|  ham|Oh k...i'm watchi...|oh k   i'm watchi...|\n",
      "|  ham|Eh u remember how...|eh u remember how...|\n",
      "|  ham|Fine if thats th...|fine if thats th...|\n",
      "| spam|England v Macedon...|england v macedon...|\n",
      "|  ham|Is that seriously...|is that seriously...|\n",
      "+-----+--------------------+--------------------+\n",
      "only showing top 20 rows\n",
      "\n"
     ]
    }
   ],
   "source": [
    "# Drop possible null value generated by normalization\n",
    "df = df_norm.dropna()\n",
    "\n",
    "df.show()"
   ]
  },
  {
   "cell_type": "markdown",
   "metadata": {},
   "source": [
    "### Encode Class Label\n",
    "Before we convert the text data in to numerical values, we first convert class label"
   ]
  },
  {
   "cell_type": "code",
   "execution_count": 59,
   "metadata": {},
   "outputs": [
    {
     "name": "stdout",
     "output_type": "stream",
     "text": [
      "+-----+--------------------+--------------------+\n",
      "|class|                 sms|            sms_norm|\n",
      "+-----+--------------------+--------------------+\n",
      "|    0|Ok lar... Joking ...|ok lar    joking ...|\n",
      "|    1|Free entry in 2 a...|free entry in  no...|\n",
      "|    0|U dun say so earl...|u dun say so earl...|\n",
      "|    0|Nah I don't think...|nah i don't think...|\n",
      "|    1|FreeMsg Hey there...|freemsg hey there...|\n",
      "|    0|Even my brother i...|even my brother i...|\n",
      "|    0|As per your reque...|as per your reque...|\n",
      "|    1|WINNER!! As a val...|winner   as a val...|\n",
      "|    1|Had your mobile 1...|had your mobile  ...|\n",
      "|    0|I'm gonna be home...|i'm gonna be home...|\n",
      "|    1|SIX chances to wi...|six chances to wi...|\n",
      "|    1|URGENT! You have ...|urgent  you have ...|\n",
      "|    0|I've been searchi...|i've been searchi...|\n",
      "|    0|I HAVE A DATE ON ...|i have a date on ...|\n",
      "|    1|XXXMobileMovieClu...|xxxmobilemovieclu...|\n",
      "|    0|Oh k...i'm watchi...|oh k   i'm watchi...|\n",
      "|    0|Eh u remember how...|eh u remember how...|\n",
      "|    0|Fine if thats th...|fine if thats th...|\n",
      "|    1|England v Macedon...|england v macedon...|\n",
      "|    0|Is that seriously...|is that seriously...|\n",
      "+-----+--------------------+--------------------+\n",
      "only showing top 20 rows\n",
      "\n"
     ]
    }
   ],
   "source": [
    "df = df.withColumn(\"class\", f.when(f.col(\"class\") == \"spam\" , 1).\n",
    "                             when(f.col(\"class\") == \"ham\" , 0).\n",
    "                             otherwise(f.col(\"class\")))\n",
    "\n",
    "df.show()"
   ]
  },
  {
   "cell_type": "markdown",
   "metadata": {},
   "source": [
    "### Tokenization\n",
    "In this part, we aim at converting the text into a set of numerical values <br>\n",
    "However, under the large dataset scenario, if the directly tokenize the text data, the whole dataset will still keep very large. In order to improve the efficency, we need to decrease the dataset size <br> \n",
    "Inspired by my Machine Learning Class from Professor Linda <br>\n",
    "We can use the TF-IDF to represent our text for each email.\n",
    "When we calculate the TF-IDF, we don't want some common words(the, and, a,...) to effect our results, so we can remove these unimportant words by define stop words. <br>\n",
    "At the same time, we will use a pyspark pipeline which will help us to make the code more simple. We will put the tokenizer, stop word remover and HashingTF process in it."
   ]
  },
  {
   "cell_type": "code",
   "execution_count": 60,
   "metadata": {},
   "outputs": [],
   "source": [
    "# Create pipeline\n",
    "tokenizer = Tokenizer(inputCol=\"sms_norm\", outputCol=\"tokens\")\n",
    "remover = StopWordsRemover(inputCol=\"tokens\", outputCol=\"tokens_filtered\")\n",
    "hashingTF = HashingTF(inputCol=\"tokens\", outputCol=\"features_tf\", \n",
    "                      numFeatures=1000)\n",
    "\n",
    "pipeline_text = Pipeline(stages=[tokenizer, remover, hashingTF])"
   ]
  },
  {
   "cell_type": "code",
   "execution_count": 62,
   "metadata": {},
   "outputs": [
    {
     "name": "stdout",
     "output_type": "stream",
     "text": [
      "+-----+--------------------+--------------------+--------------------+--------------------+--------------------+\n",
      "|class|                 sms|            sms_norm|              tokens|     tokens_filtered|         features_tf|\n",
      "+-----+--------------------+--------------------+--------------------+--------------------+--------------------+\n",
      "|    0|Ok lar... Joking ...|ok lar    joking ...|[ok, lar, , , , j...|[ok, lar, , , , j...|(1000,[20,372,484...|\n",
      "|    1|Free entry in 2 a...|free entry in  no...|[free, entry, in,...|[free, entry, , n...|(1000,[35,73,128,...|\n",
      "|    0|U dun say so earl...|u dun say so earl...|[u, dun, say, so,...|[u, dun, say, ear...|(1000,[57,368,372...|\n",
      "|    0|Nah I don't think...|nah i don't think...|[nah, i, don't, t...|[nah, think, goes...|(1000,[135,210,32...|\n",
      "|    1|FreeMsg Hey there...|freemsg hey there...|[freemsg, hey, th...|[freemsg, hey, da...|(1000,[36,91,98,9...|\n",
      "|    0|Even my brother i...|even my brother i...|[even, my, brothe...|[even, brother, l...|(1000,[18,47,48,5...|\n",
      "|    0|As per your reque...|as per your reque...|[as, per, your, r...|[per, request, 'm...|(1000,[36,71,92,1...|\n",
      "|    1|WINNER!! As a val...|winner   as a val...|[winner, , , as, ...|[winner, , , valu...|(1000,[39,43,74,1...|\n",
      "|    1|Had your mobile 1...|had your mobile  ...|[had, your, mobil...|[mobile, , normal...|(1000,[36,73,82,1...|\n",
      "|    0|I'm gonna be home...|i'm gonna be home...|[i'm, gonna, be, ...|[gonna, home, soo...|(1000,[41,159,263...|\n",
      "|    1|SIX chances to wi...|six chances to wi...|[six, chances, to...|[six, chances, wi...|(1000,[15,35,92,2...|\n",
      "|    1|URGENT! You have ...|urgent  you have ...|[urgent, , you, h...|[urgent, , won, ,...|(1000,[68,73,122,...|\n",
      "|    0|I've been searchi...|i've been searchi...|[i've, been, sear...|[searching, right...|(1000,[36,39,140,...|\n",
      "|    0|I HAVE A DATE ON ...|i have a date on ...|[i, have, a, date...|      [date, sunday]|(1000,[44,82,170,...|\n",
      "|    1|XXXMobileMovieClu...|xxxmobilemovieclu...|[xxxmobilemoviecl...|[xxxmobilemoviecl...|(1000,[43,66,135,...|\n",
      "|    0|Oh k...i'm watchi...|oh k   i'm watchi...|[oh, k, , , i'm, ...|[oh, k, , , watch...|(1000,[135,275,37...|\n",
      "|    0|Eh u remember how...|eh u remember how...|[eh, u, remember,...|[eh, u, remember,...|(1000,[14,15,80,1...|\n",
      "|    0|Fine if thats th...|fine if thats th...|[fine, if, thats...|[fine, thats, wa...|(1000,[80,115,159...|\n",
      "|    1|England v Macedon...|england v macedon...|[england, v, mace...|[england, v, mace...|(1000,[4,9,19,71,...|\n",
      "|    0|Is that seriously...|is that seriously...|[is, that, seriou...|[seriously, spell...|(1000,[15,236,237...|\n",
      "+-----+--------------------+--------------------+--------------------+--------------------+--------------------+\n",
      "only showing top 20 rows\n",
      "\n"
     ]
    }
   ],
   "source": [
    "# Fit the pipeline\n",
    "pipeline_text_fit = pipeline_text.fit(df)\n",
    "df_pipeline = pipeline_text_fit.transform(df)\n",
    "df_pipeline.show()"
   ]
  },
  {
   "cell_type": "markdown",
   "metadata": {},
   "source": [
    "### Split Training Set and Data Set"
   ]
  },
  {
   "cell_type": "code",
   "execution_count": 63,
   "metadata": {},
   "outputs": [
    {
     "name": "stdout",
     "output_type": "stream",
     "text": [
      "Shape - Train\n",
      "(4423, 6)\n",
      "\n",
      "Shape - Test\n",
      "(1150, 6)\n"
     ]
    }
   ],
   "source": [
    "split_train = 0.8\n",
    "train, test = df_pipeline.randomSplit([split_train, (1-split_train)], seed=seed)\n",
    "\n",
    "print(\"Shape - Train\")\n",
    "print((train.count(), len(train.columns)))\n",
    "print()\n",
    "print(\"Shape - Test\")\n",
    "print((test.count(), len(test.columns)))"
   ]
  },
  {
   "cell_type": "markdown",
   "metadata": {},
   "source": [
    "### Calculate Term Frequency - Inverse Document Frequency (TF-IDF) "
   ]
  },
  {
   "cell_type": "code",
   "execution_count": 64,
   "metadata": {},
   "outputs": [
    {
     "name": "stdout",
     "output_type": "stream",
     "text": [
      "+-----+--------------------+--------------------+--------------------+--------------------+--------------------+--------------------+\n",
      "|class|                 sms|            sms_norm|              tokens|     tokens_filtered|         features_tf|      features_tfidf|\n",
      "+-----+--------------------+--------------------+--------------------+--------------------+--------------------+--------------------+\n",
      "|    0| &lt;#&gt;  in mc...|      in mca  but...|[, , , , , , in, ...|[, , , , , , mca,...|(1000,[18,83,372,...|(1000,[18,83,372,...|\n",
      "|    0| &lt;DECIMAL&gt; ...|  decimal  m but ...|[, , decimal, , m...|[, , decimal, , m...|(1000,[18,62,83,1...|(1000,[18,62,83,1...|\n",
      "|    0| and  picking the...| and  picking the...|[, and, , picking...|[, , picking, var...|(1000,[128,263,33...|(1000,[128,263,33...|\n",
      "|    0| came to look at ...| came to look at ...|[, came, to, look...|[, came, look, fl...|(1000,[7,146,197,...|(1000,[7,146,197,...|\n",
      "|    0| gonna let me kno...| gonna let me kno...|[, gonna, let, me...|[, gonna, let, kn...|(1000,[51,134,164...|(1000,[51,134,164...|\n",
      "|    0| said kiss, kiss,...| said kiss  kiss ...|[, said, kiss, , ...|[, said, kiss, , ...|(1000,[44,133,168...|(1000,[44,133,168...|\n",
      "|    0| says that he's q...| says that he's q...|[, says, that, he...|[, says, quitting...|(1000,[122,138,17...|(1000,[122,138,17...|\n",
      "|    0| what number do u...| what number do u...|[, what, number, ...|[, number, u, liv...|(1000,[281,372,49...|(1000,[281,372,49...|\n",
      "|    0|\"Gimme a few\" was...| gimme a few  was...|[, gimme, a, few,...|[, gimme, , , , ,...|(1000,[170,234,37...|(1000,[170,234,37...|\n",
      "|    0|\"Happy valentines...| happy valentines...|[, happy, valenti...|[, happy, valenti...|(1000,[83,141,296...|(1000,[83,141,296...|\n",
      "|    0|\"Life is nothing ...| life is nothing ...|[, life, is, noth...|[, life, nothing,...|(1000,[71,73,83,8...|(1000,[71,73,83,8...|\n",
      "|    0|\"SYMPTOMS\" when U...| symptoms  when u...|[, symptoms, , wh...|[, symptoms, , u,...|(1000,[15,76,138,...|(1000,[15,76,138,...|\n",
      "|    0|\"Speak only when ...| speak only when ...|[, speak, only, w...|[, speak, feel, w...|(1000,[47,73,76,1...|(1000,[47,73,76,1...|\n",
      "|    0|\"The world suffer...| the world suffer...|[, the, world, su...|[, world, suffers...|(1000,[18,76,83,8...|(1000,[18,76,83,8...|\n",
      "|    0|\"Wen u miss someo...| wen u miss someo...|[, wen, u, miss, ...|[, wen, u, miss, ...|(1000,[36,71,83,1...|(1000,[36,71,83,1...|\n",
      "|    0|&lt;#&gt;  great ...|     great loxaha...|[, , , , , great,...|[, , , , , great,...|(1000,[23,27,129,...|(1000,[23,27,129,...|\n",
      "|    0|&lt;#&gt;  is fas...|     is fast appr...|[, , , , , is, fa...|[, , , , , fast, ...|(1000,[25,71,77,1...|(1000,[25,71,77,1...|\n",
      "|    0|&lt;#&gt;  w jett...|     w jetton ave...|[, , , , , w, jet...|[, , , , , w, jet...|(1000,[170,296,37...|(1000,[170,296,37...|\n",
      "|    0|&lt;#&gt; %of ppl...|     of pple marr...|[, , , , , of, pp...|[, , , , , pple, ...|(1000,[25,48,73,8...|(1000,[25,48,73,8...|\n",
      "|    0|&lt;#&gt; , that'...|      that's all ...|[, , , , , , that...|[, , , , , , , gu...|(1000,[372,597,76...|(1000,[372,597,76...|\n",
      "+-----+--------------------+--------------------+--------------------+--------------------+--------------------+--------------------+\n",
      "only showing top 20 rows\n",
      "\n"
     ]
    }
   ],
   "source": [
    "#Initialize IDF Estimator\n",
    "idf = IDF(minDocFreq=2, inputCol=\"features_tf\", outputCol=\"features_tfidf\")\n",
    "\n",
    "# Train IDF Estimator to Term Frequency Data\n",
    "idfModel = idf.fit(train)\n",
    "\n",
    "# Re-Scale Term Frequency Data to \n",
    "train = idfModel.transform(train)\n",
    "test = idfModel.transform(test)\n",
    "\n",
    "#Inspect\n",
    "train.show()"
   ]
  },
  {
   "cell_type": "markdown",
   "metadata": {},
   "source": [
    "### Select the final data column we need"
   ]
  },
  {
   "cell_type": "code",
   "execution_count": 68,
   "metadata": {},
   "outputs": [
    {
     "name": "stdout",
     "output_type": "stream",
     "text": [
      "+-----+--------------------+\n",
      "|label|            features|\n",
      "+-----+--------------------+\n",
      "|    0|(1000,[18,83,372,...|\n",
      "|    0|(1000,[18,62,83,1...|\n",
      "|    0|(1000,[128,263,33...|\n",
      "|    0|(1000,[7,146,197,...|\n",
      "|    0|(1000,[51,134,164...|\n",
      "|    0|(1000,[44,133,168...|\n",
      "|    0|(1000,[122,138,17...|\n",
      "|    0|(1000,[281,372,49...|\n",
      "|    0|(1000,[170,234,37...|\n",
      "|    0|(1000,[83,141,296...|\n",
      "|    0|(1000,[71,73,83,8...|\n",
      "|    0|(1000,[15,76,138,...|\n",
      "|    0|(1000,[47,73,76,1...|\n",
      "|    0|(1000,[18,76,83,8...|\n",
      "|    0|(1000,[36,71,83,1...|\n",
      "|    0|(1000,[23,27,129,...|\n",
      "|    0|(1000,[25,71,77,1...|\n",
      "|    0|(1000,[170,296,37...|\n",
      "|    0|(1000,[25,48,73,8...|\n",
      "|    0|(1000,[372,597,76...|\n",
      "+-----+--------------------+\n",
      "only showing top 20 rows\n",
      "\n"
     ]
    }
   ],
   "source": [
    "df_train=train.select(f.col(\"class\").alias(\"label\"), f.col(\"features_tfidf\").alias(\"features\"))\n",
    "df_train.show()"
   ]
  },
  {
   "cell_type": "code",
   "execution_count": 69,
   "metadata": {},
   "outputs": [
    {
     "name": "stdout",
     "output_type": "stream",
     "text": [
      "+-----+--------------------+\n",
      "|label|            features|\n",
      "+-----+--------------------+\n",
      "|    0|(1000,[73,83,183,...|\n",
      "|    0|(1000,[19,42,44,8...|\n",
      "|    0|(1000,[13,44,76,8...|\n",
      "|    0|(1000,[82,173,329...|\n",
      "|    0|(1000,[234,372,55...|\n",
      "+-----+--------------------+\n",
      "only showing top 5 rows\n",
      "\n"
     ]
    }
   ],
   "source": [
    "df_test = test.select(f.col(\"class\").alias(\"label\"), f.col(\"features_tfidf\").alias(\"features\"))\n",
    "df_test.show(5)"
   ]
  },
  {
   "cell_type": "markdown",
   "metadata": {},
   "source": [
    "## Train With XGBoost \n",
    "API Reference: https://sagemaker-pyspark.readthedocs.io/en/latest/api.html"
   ]
  },
  {
   "cell_type": "code",
   "execution_count": 70,
   "metadata": {},
   "outputs": [
    {
     "name": "stdout",
     "output_type": "stream",
     "text": [
      "Schema - Train\n",
      "root\n",
      " |-- label: double (nullable = true)\n",
      " |-- features: vector (nullable = true)\n",
      "\n",
      "Schema - Test\n",
      "root\n",
      " |-- label: double (nullable = true)\n",
      " |-- features: vector (nullable = true)\n",
      "\n"
     ]
    }
   ],
   "source": [
    "# Transform our dataframe so that in can fit into the model\n",
    "new_schema = StructType([\n",
    "    StructField(\"label\", DoubleType()),\n",
    "    StructField(\"features\", VectorUDT())\n",
    "])\n",
    "\n",
    "# Train Set\n",
    "df_train = df_train.withColumn(\"label\", f.col('label').cast(DoubleType()))\n",
    "df_train = df_train.withColumn(\"features\", f.col('features').cast(VectorUDT()))\n",
    "print(\"Schema - Train\")\n",
    "df_train.printSchema()\n",
    "\n",
    "# Test Set\n",
    "df_test = df_test.withColumn(\"label\", f.col('label').cast(DoubleType()))\n",
    "df_test = df_test.withColumn(\"features\", f.col('features').cast(VectorUDT()))\n",
    "print(\"Schema - Test\")\n",
    "df_test.printSchema()\n",
    "\n"
   ]
  },
  {
   "cell_type": "code",
   "execution_count": 72,
   "metadata": {},
   "outputs": [],
   "source": [
    "# Initialize Model\n",
    "xgboost_estimator = XGBoostSageMakerEstimator(\n",
    "  sagemakerRole = IAMRole(role),\n",
    "  requestRowSerializer=LibSVMRequestRowSerializer(schema=new_schema,\n",
    "                                                 featuresColumnName=\"features\",\n",
    "                                                 labelColumnName=\"label\"),\n",
    "  trainingInstanceType = \"ml.m4.xlarge\",\n",
    "  trainingInstanceCount = 1,\n",
    "  endpointInstanceType = \"ml.m4.xlarge\",\n",
    "  endpointInitialInstanceCount = 1,\n",
    "  namePolicyFactory=RandomNamePolicyFactory(\"spam-xgb-\"),\n",
    "  endpointCreationPolicy = EndpointCreationPolicy.CREATE_ON_TRANSFORM\n",
    ")"
   ]
  },
  {
   "cell_type": "code",
   "execution_count": 73,
   "metadata": {},
   "outputs": [],
   "source": [
    "# Set Hyperparameters\n",
    "xgboost_estimator.setNumRound(15)\n",
    "xgboost_estimator.setObjective(\"binary:logistic\")\n",
    "xgboost_estimator.setEvalMetric(\"auc\")\n",
    "xgboost_estimator.setSeed(seed)"
   ]
  },
  {
   "cell_type": "code",
   "execution_count": 74,
   "metadata": {},
   "outputs": [],
   "source": [
    "# Fit the training set\n",
    "model = xgboost_estimator.fit(df_train)"
   ]
  },
  {
   "cell_type": "markdown",
   "metadata": {},
   "source": [
    "## Evaluate the model "
   ]
  },
  {
   "cell_type": "code",
   "execution_count": 75,
   "metadata": {},
   "outputs": [
    {
     "name": "stdout",
     "output_type": "stream",
     "text": [
      "+-----+--------------------+----------------+-----------------+---------------+----------+\n",
      "|label|            features|      prediction|prediction_binary|prediction_spam|label_spam|\n",
      "+-----+--------------------+----------------+-----------------+---------------+----------+\n",
      "|  0.0|(1000,[73,83,183,...| 0.0108006848022|              0.0|            ham|       ham|\n",
      "|  0.0|(1000,[19,42,44,8...|0.00748851243407|              0.0|            ham|       ham|\n",
      "|  0.0|(1000,[13,44,76,8...|  0.147869259119|              0.0|            ham|       ham|\n",
      "|  0.0|(1000,[82,173,329...|0.00908160861582|              0.0|            ham|       ham|\n",
      "|  0.0|(1000,[234,372,55...| 0.0379120782018|              0.0|            ham|       ham|\n",
      "|  0.0|(1000,[16,40,170,...|0.00748851243407|              0.0|            ham|       ham|\n",
      "|  0.0|(1000,[82,159,173...|0.00748851243407|              0.0|            ham|       ham|\n",
      "|  0.0|(1000,[58,146,163...|  0.224270150065|              0.0|            ham|       ham|\n",
      "|  0.0|(1000,[18,100,170...| 0.0324433967471|              0.0|            ham|       ham|\n",
      "|  0.0|(1000,[86,146,201...| 0.0465430952609|              0.0|            ham|       ham|\n",
      "|  0.0|(1000,[19,68,77,8...|  0.220310851932|              0.0|            ham|       ham|\n",
      "|  0.0|(1000,[372,385,45...| 0.0379120782018|              0.0|            ham|       ham|\n",
      "|  0.0|(1000,[34,41,192,...|  0.031783901155|              0.0|            ham|       ham|\n",
      "|  0.0|(1000,[0,300,372,...|  0.172727480531|              0.0|            ham|       ham|\n",
      "|  0.0|(1000,[15,372,431...| 0.0887597799301|              0.0|            ham|       ham|\n",
      "|  0.0|(1000,[19,104,150...| 0.0411453731358|              0.0|            ham|       ham|\n",
      "|  0.0|(1000,[19,104,150...| 0.0411453731358|              0.0|            ham|       ham|\n",
      "|  0.0|(1000,[14,25,128,...| 0.0407518520951|              0.0|            ham|       ham|\n",
      "|  0.0|(1000,[18,372,407...|0.00748851243407|              0.0|            ham|       ham|\n",
      "|  0.0|(1000,[372,407],[...|0.00748851243407|              0.0|            ham|       ham|\n",
      "+-----+--------------------+----------------+-----------------+---------------+----------+\n",
      "only showing top 20 rows\n",
      "\n"
     ]
    }
   ],
   "source": [
    "# Get predict results\n",
    "predictions = model.transform(df_test)\n",
    "\n",
    "# Translate the predict results\n",
    "predictions = predictions.withColumn(\"prediction_binary\", \\\n",
    "                                     f.when(f.col(\"prediction\") > 0.5 , 1.0).\n",
    "                                     otherwise(0.0))\n",
    "\n",
    "predictions = predictions.withColumn(\"prediction_spam\", \\\n",
    "                                     f.when(f.col(\"prediction_binary\") == 1 ,\\\n",
    "                                            \"spam\").otherwise(\"ham\"))\n",
    "\n",
    "predictions = predictions.withColumn(\"label_spam\",\\\n",
    "                                     f.when(f.col(\"label\") == 1 , \"spam\").\n",
    "                                     otherwise(\"ham\"))\n",
    "predictions.show()"
   ]
  },
  {
   "cell_type": "code",
   "execution_count": 76,
   "metadata": {},
   "outputs": [
    {
     "name": "stdout",
     "output_type": "stream",
     "text": [
      "+---------------+-----+\n",
      "|prediction_spam|count|\n",
      "+---------------+-----+\n",
      "|            ham| 1008|\n",
      "|           spam|  142|\n",
      "+---------------+-----+\n",
      "\n"
     ]
    }
   ],
   "source": [
    "predictions.groupBy(\"prediction_spam\").count().show()"
   ]
  },
  {
   "cell_type": "markdown",
   "metadata": {},
   "source": [
    "### Generate Confusion Matrix "
   ]
  },
  {
   "cell_type": "code",
   "execution_count": 78,
   "metadata": {},
   "outputs": [],
   "source": [
    "def show_confusion_matrix(cm, classes, normalize=False, title='Confusion matrix', cmap=plt.cm.Greens):\n",
    "    if normalize:\n",
    "        cm = cm.astype('float') / cm.sum(axis=1)[:, np.newaxis]\n",
    "    else:\n",
    "        print()\n",
    "\n",
    "    plt.imshow(cm, interpolation='nearest', cmap=cmap)\n",
    "    plt.title(title)\n",
    "    plt.colorbar()\n",
    "    tick_marks = np.arange(len(classes))\n",
    "    plt.xticks(tick_marks, classes, rotation=45)\n",
    "    plt.yticks(tick_marks, classes)\n",
    "\n",
    "    fmt = '.3f' if normalize else 'd'\n",
    "    thresh = cm.max() / 2.\n",
    "    for i, j in itertools.product(range(cm.shape[0]), range(cm.shape[1])):\n",
    "        plt.text(j, i, format(cm[i, j], fmt),\n",
    "                 horizontalalignment=\"center\",\n",
    "                 color=\"white\" if cm[i, j] > thresh else \"black\")\n",
    "\n",
    "    plt.tight_layout()\n",
    "    plt.ylabel('True label')\n",
    "    plt.xlabel('Predicted label')"
   ]
  },
  {
   "cell_type": "code",
   "execution_count": 80,
   "metadata": {},
   "outputs": [],
   "source": [
    "# Convert Labels to Pandas Dataframe\n",
    "y_true = predictions.select(\"label_spam\")\n",
    "y_true = y_true.toPandas()\n",
    "\n",
    "# Convert Predictions to Pandas Dataframe\n",
    "y_pred = predictions.select(\"prediction_spam\")\n",
    "y_pred = y_pred.toPandas()\n",
    "\n",
    "# Generate Raw Confusion Matrix\n",
    "cm = confusion_matrix(y_true, y_pred, labels = ['ham', 'spam'])"
   ]
  },
  {
   "cell_type": "code",
   "execution_count": 84,
   "metadata": {},
   "outputs": [
    {
     "name": "stderr",
     "output_type": "stream",
     "text": [
      "Exception ignored in: <bound method JavaParams.__del__ of XGBoostSageMakerEstimator_47fd9be3944c37b55f26>\n",
      "Traceback (most recent call last):\n",
      "  File \"/home/ec2-user/anaconda3/envs/python3/lib/python3.6/site-packages/pyspark/ml/wrapper.py\", line 105, in __del__\n",
      "    SparkContext._active_spark_context._gateway.detach(self._java_obj)\n",
      "  File \"/home/ec2-user/anaconda3/envs/python3/lib/python3.6/site-packages/py4j/java_gateway.py\", line 2000, in detach\n",
      "    java_object._detach()\n",
      "AttributeError: 'NoneType' object has no attribute '_detach'\n"
     ]
    },
    {
     "data": {
      "image/png": "[encoded data removed]",
      "text/plain": [
       "<Figure size 504x504 with 2 Axes>"
      ]
     },
     "metadata": {},
     "output_type": "display_data"
    }
   ],
   "source": [
    "# Plot and visualize\n",
    "plt.figure(figsize=[7,7])\n",
    "show_confusion_matrix(cm, classes = ['ham', 'spam'], normalize= True, title='Confusion Matrix, \\nWith Normalization')\n",
    "plt.show()"
   ]
  },
  {
   "cell_type": "markdown",
   "metadata": {},
   "source": [
    "### Receiver Operating Characteristic (ROC) curve"
   ]
  },
  {
   "cell_type": "code",
   "execution_count": 86,
   "metadata": {},
   "outputs": [],
   "source": [
    "test_label = predictions.select('label').toPandas()\n",
    "test_pred = predictions.select('prediction').toPandas()\n",
    "fpr, tpr, thresholds = roc_curve(test_label, test_pred)\n",
    "\n",
    "roc_auc = auc(fpr, tpr)"
   ]
  },
  {
   "cell_type": "code",
   "execution_count": 88,
   "metadata": {},
   "outputs": [
    {
     "data": {
      "text/plain": [
       "<matplotlib.legend.Legend at 0x7fd493a79c18>"
      ]
     },
     "execution_count": 88,
     "metadata": {},
     "output_type": "execute_result"
    },
    {
     "data": {
      "image/png": "[encoded data removed]",
      "text/plain": [
       "<Figure size 504x504 with 1 Axes>"
      ]
     },
     "metadata": {},
     "output_type": "display_data"
    }
   ],
   "source": [
    "plt.rc('font', size=19.5) \n",
    "plt.figure(figsize=[7,7])\n",
    "plt.plot(fpr, tpr, label='ROC curve (area = %0.3f)' % (roc_auc))\n",
    "plt.plot([0, 1], [0, 1], 'k--', label = 'Random Guess')\n",
    "plt.xlim([0.0, 1.0])\n",
    "plt.ylim([0.0, 1.05])\n",
    "plt.xlabel('False Positive Rate')\n",
    "plt.ylabel('True Positive Rate')\n",
    "plt.title('Receiver Operating Characteristic')\n",
    "plt.legend(loc=\"lower right\")"
   ]
  },
  {
   "cell_type": "markdown",
   "metadata": {},
   "source": [
    "## Clean up "
   ]
  },
  {
   "cell_type": "code",
   "execution_count": 94,
   "metadata": {},
   "outputs": [
    {
     "data": {
      "text/plain": [
       "[{'ResponseMetadata': {'RequestId': '197C2591B75A65D7',\n",
       "   'HostId': 'otvX9FopbufkxEyLOIFN4Z8MDkFuOJlwyAwogfMiKStPgbKo97dcYZtthZhIkXxk4axR/aahcLQ=',\n",
       "   'HTTPStatusCode': 200,\n",
       "   'HTTPHeaders': {'x-amz-id-2': 'otvX9FopbufkxEyLOIFN4Z8MDkFuOJlwyAwogfMiKStPgbKo97dcYZtthZhIkXxk4axR/aahcLQ=',\n",
       "    'x-amz-request-id': '197C2591B75A65D7',\n",
       "    'date': 'Tue, 05 May 2020 01:56:55 GMT',\n",
       "    'connection': 'close',\n",
       "    'content-type': 'application/xml',\n",
       "    'transfer-encoding': 'chunked',\n",
       "    'server': 'AmazonS3'},\n",
       "   'RetryAttempts': 0},\n",
       "  'Deleted': [{'Key': 'spam.csv'},\n",
       "   {'Key': 'sagemaker/DEMO-xgboost-dm/SMSSpamCollection'},\n",
       "   {'Key': 'SMSSpamCollection'},\n",
       "   {'Key': 'sagemaker/DEMO-xgboost-dm/spam.csv'}]}]"
      ]
     },
     "execution_count": 94,
     "metadata": {},
     "output_type": "execute_result"
    }
   ],
   "source": [
    "resource_cleanup = SageMakerResourceCleanup(model.sagemakerClient)\n",
    "resource_cleanup.deleteResources(model.getCreatedResources())\n",
    "bucket_to_delete = boto3.resource('s3').Bucket(bucket_name)\n",
    "bucket_to_delete.objects.all().delete()"
   ]
  },
  {
   "cell_type": "code",
   "execution_count": null,
   "metadata": {},
   "outputs": [],
   "source": []
  },
  {
   "cell_type": "code",
   "execution_count": null,
   "metadata": {},
   "outputs": [],
   "source": []
  },
  {
   "cell_type": "code",
   "execution_count": null,
   "metadata": {},
   "outputs": [],
   "source": []
  },
  {
   "cell_type": "code",
   "execution_count": null,
   "metadata": {},
   "outputs": [],
   "source": []
  },
  {
   "cell_type": "code",
   "execution_count": null,
   "metadata": {},
   "outputs": [],
   "source": []
  }
 ],
 "metadata": {
  "kernelspec": {
   "display_name": "conda_python3",
   "language": "python",
   "name": "conda_python3"
  },
  "language_info": {
   "codemirror_mode": {
    "name": "ipython",
    "version": 3
   },
   "file_extension": ".py",
   "mimetype": "text/x-python",
   "name": "python",
   "nbconvert_exporter": "python",
   "pygments_lexer": "ipython3",
   "version": "3.6.5"
  }
 },
 "nbformat": 4,
 "nbformat_minor": 4
}
